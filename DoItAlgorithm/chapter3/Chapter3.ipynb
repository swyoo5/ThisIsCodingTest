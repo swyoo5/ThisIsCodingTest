{
 "cells": [
  {
   "cell_type": "markdown",
   "id": "0a1536f5",
   "metadata": {},
   "source": [
    "# 1. 당장 좋은것만 선택하는 그리디\n",
    "당신은 음식정의 계산을 도와주는 점원이다. 카운터에는 거스름돈으로 사용할 500, 100, 50, 10원짜리 동전이 무한히 존재한다고 가정하자. 손님에게 거슬러 줘여 할 돈이 money원일 때 거슬러 줘야 할 동전의 최소 개수를 구하여라. 단, 거슬러 줘야 할 돈 money는 항상 10의 배수이다."
   ]
  },
  {
   "cell_type": "code",
   "execution_count": null,
   "id": "a2647abb",
   "metadata": {},
   "outputs": [],
   "source": [
    "money = int(input())\n",
    "\n",
    "coins = [500, 100, 50, 10]\n",
    "result = 0\n",
    "for coin in coins :\n",
    "    result += (money // coin)\n",
    "    money %= coin\n",
    "    \n",
    "print(result)"
   ]
  },
  {
   "cell_type": "markdown",
   "id": "5ce10b0c",
   "metadata": {},
   "source": [
    "# 2. 큰 수의 법칙\n",
    "\"큰 수의 법칙\"은 일반적으로 통계 분야에서 다루어지는 내용이지만 동빈이는 본인만의 방식으로 다르게 사용하고 있다. 동빈이의 큰 수의 법칙은 다양한 수로 이루어진 배열이 있을 때 주어진 수들을 M번 더하여 가장 큰 수를 만드는 법칙이다. 단, 배열의 특정한 인덱스에 해당하는 수가 연속해서 K번 초과하여 더해질 수 없는 것이 이 법칙의 특징이다."
   ]
  },
  {
   "cell_type": "code",
   "execution_count": null,
   "id": "6b72a261",
   "metadata": {},
   "outputs": [],
   "source": [
    "# 풀이 1\n",
    "n, m, k = map(int, input().split())\n",
    "num_list = list(map(int, input().split()))\n",
    "\n",
    "num_list.sort()\n",
    "first = num_list[n - 1]\n",
    "second = num_list[n - 2]\n",
    "\n",
    "result = 0\n",
    "while m != 0 :\n",
    "    for i in range(k) :\n",
    "        result += first\n",
    "        m -= 1\n",
    "    result += second\n",
    "    m -= 1\n",
    "    \n",
    "print(result)"
   ]
  },
  {
   "cell_type": "code",
   "execution_count": null,
   "id": "1b987809",
   "metadata": {},
   "outputs": [],
   "source": [
    "# 풀이 2\n",
    "n, m, k = map(int, input().split()) # 5 8 3\n",
    "num_list = list(map(int, input().split())) # 2 4 5 4 6\n",
    "\n",
    "num_list.sort()\n",
    "first = num_list[n - 1]\n",
    "second = num_list[n - 2]\n",
    "\n",
    "count = int(m / (k + 1)) * k + m % (k + 1) # 가장 큰 수가 나오는 횟수\n",
    "# first가 k번 나온 뒤 second가 한번 나오는게 한 묶음이라 했을 때, 이 묶음의 수는 int(m / (k + 1))\n",
    "# m과 k + 1이 나누어 떨어지지 않을 경우 추가로 나오는 횟수 m % (k + 1)\n",
    "\n",
    "result = 0\n",
    "result += count * first # 가장 큰 수가 더해지는 횟수\n",
    "result += (m - count) * second # 두번째로 큰 수가 더해지는 횟수\n",
    "\n",
    "print(result)"
   ]
  },
  {
   "cell_type": "markdown",
   "id": "11ecca0a",
   "metadata": {},
   "source": [
    "# 3. 숫자 카드 게임\n",
    "숫자 카드 게임은 여러 개의 숫자 카드 중에서 가장 높은 숫자가 쓰인 카드 한 장을 뽑는 게임이다. 단, 게임의 룰을 지키며 카드를 뽑아야 하고 룰은 다음과 같다.\n",
    "1. 숫자가 쓰인 카드들이 N X M 형태로 놓여 있다. 이때 N은 행의 개수를 의미하며 M은 열의 개수를 의미한다.\n",
    "2. 먼저 뽑고자 하는 카드가 포함되어 있는 행을 선택한다.\n",
    "3. 그 다음 선택된 행에 포함된 카드들 중 가장 숫자가 낮은 카드를 뽑아야 한다.\n",
    "4. 따라서 처음에 카드를 골라낼 행을 선택할 때, 이후에 해당 행에서 가장 숫자가 낮은 카드를 뽑을 것을 고려하여 최종적으로 가장 높은 숫자의 카드를 뽑을 수 있도록 전략을 세워야 한다."
   ]
  },
  {
   "cell_type": "code",
   "execution_count": null,
   "id": "8adf0375",
   "metadata": {},
   "outputs": [],
   "source": [
    "# 풀이 1\n",
    "row, col = map(int, input().split())\n",
    "\n",
    "result = 0\n",
    "for i in range(row) :\n",
    "    num_row = list(map(int, input().split()))\n",
    "    min_row = min(num_row)\n",
    "    if (result < min_row) :\n",
    "        result = min_row\n",
    "        \n",
    "print(result)"
   ]
  },
  {
   "cell_type": "code",
   "execution_count": null,
   "id": "fe606af6",
   "metadata": {},
   "outputs": [],
   "source": [
    "# 풀이 2\n",
    "row, col = map(int, input().split())\n",
    "\n",
    "result = 0\n",
    "for i in range(row) :\n",
    "    data = list(map(int, input().split()))\n",
    "    min_value = min(data)\n",
    "    result = max(result, min_value)\n",
    "    \n",
    "print(result)"
   ]
  },
  {
   "cell_type": "code",
   "execution_count": null,
   "id": "d32c9a60",
   "metadata": {},
   "outputs": [],
   "source": [
    "# 풀이 3\n",
    "n, m = map(int, input().split())\n",
    "\n",
    "result = 0\n",
    "for i in range(n) :\n",
    "    num_row = list(map(int, input().split()))\n",
    "    min_value = 10001\n",
    "    for a in num_row :\n",
    "        min_value = min(min_value, a)\n",
    "    result = max(result, min_value)\n",
    "    \n",
    "print(result)"
   ]
  },
  {
   "cell_type": "markdown",
   "id": "ab002b11",
   "metadata": {},
   "source": [
    "# 1이 될 때까지\n",
    "어떠한 수 N이 1이 될 때까지 다음 두 과정 중 하나를 반복적으로 선택하여 수행하려고 한다. 단, 두번째 연산은 N이 K로 나누어 떨어질 때만 선택할 수 있다.\n",
    "1. N에서 1을 뺀다.\n",
    "2. N을 K로 나눈다.\n",
    "출력 결과는 N을 1로 만드는 최소 횟수이다."
   ]
  },
  {
   "cell_type": "code",
   "execution_count": 4,
   "id": "d7454582",
   "metadata": {},
   "outputs": [
    {
     "name": "stdout",
     "output_type": "stream",
     "text": [
      "\n"
     ]
    },
    {
     "ename": "ValueError",
     "evalue": "not enough values to unpack (expected 2, got 0)",
     "output_type": "error",
     "traceback": [
      "\u001b[1;31m---------------------------------------------------------------------------\u001b[0m",
      "\u001b[1;31mValueError\u001b[0m                                Traceback (most recent call last)",
      "\u001b[1;32m<ipython-input-4-40911c6dd9a7>\u001b[0m in \u001b[0;36m<module>\u001b[1;34m\u001b[0m\n\u001b[1;32m----> 1\u001b[1;33m \u001b[0mn\u001b[0m\u001b[1;33m,\u001b[0m \u001b[0mk\u001b[0m \u001b[1;33m=\u001b[0m \u001b[0mmap\u001b[0m\u001b[1;33m(\u001b[0m\u001b[0mint\u001b[0m\u001b[1;33m,\u001b[0m \u001b[0minput\u001b[0m\u001b[1;33m(\u001b[0m\u001b[1;33m)\u001b[0m\u001b[1;33m.\u001b[0m\u001b[0msplit\u001b[0m\u001b[1;33m(\u001b[0m\u001b[1;33m)\u001b[0m\u001b[1;33m)\u001b[0m\u001b[1;33m\u001b[0m\u001b[1;33m\u001b[0m\u001b[0m\n\u001b[0m\u001b[0;32m      2\u001b[0m \u001b[0mresult\u001b[0m \u001b[1;33m=\u001b[0m \u001b[1;36m0\u001b[0m\u001b[1;33m\u001b[0m\u001b[1;33m\u001b[0m\u001b[0m\n\u001b[0;32m      3\u001b[0m \u001b[1;33m\u001b[0m\u001b[0m\n\u001b[0;32m      4\u001b[0m \u001b[1;32mwhile\u001b[0m \u001b[0mn\u001b[0m \u001b[1;33m>=\u001b[0m \u001b[0mk\u001b[0m \u001b[1;33m:\u001b[0m\u001b[1;33m\u001b[0m\u001b[1;33m\u001b[0m\u001b[0m\n\u001b[0;32m      5\u001b[0m     \u001b[1;32mwhile\u001b[0m \u001b[0mn\u001b[0m \u001b[1;33m%\u001b[0m \u001b[0mk\u001b[0m \u001b[1;33m!=\u001b[0m \u001b[1;36m0\u001b[0m \u001b[1;33m:\u001b[0m\u001b[1;33m\u001b[0m\u001b[1;33m\u001b[0m\u001b[0m\n",
      "\u001b[1;31mValueError\u001b[0m: not enough values to unpack (expected 2, got 0)"
     ]
    }
   ],
   "source": [
    "n, k = map(int, input().split())\n",
    "result = 0\n",
    "\n",
    "while n >= k :\n",
    "    while n % k != 0 :\n",
    "        n -= 1\n",
    "        result += 1\n",
    "    n //= k\n",
    "    result += 1\n",
    "    \n",
    "while n > 1 :\n",
    "    n -= 1\n",
    "    result += 1\n",
    "    \n",
    "print(result)"
   ]
  },
  {
   "cell_type": "code",
   "execution_count": 5,
   "id": "ca48d258",
   "metadata": {},
   "outputs": [
    {
     "name": "stdout",
     "output_type": "stream",
     "text": [
      "17 4\n",
      "3\n"
     ]
    }
   ],
   "source": [
    "n, k = map(int, input().split()) # 17 4\n",
    "result = 0\n",
    "\n",
    "while True :\n",
    "    target = (n // k) * k\n",
    "    result += (n - target)\n",
    "    n = target\n",
    "    if n < k :\n",
    "        break\n",
    "    result += 1\n",
    "    n //= k\n",
    "    \n",
    "result += (n - 1)\n",
    "print(result)"
   ]
  }
 ],
 "metadata": {
  "kernelspec": {
   "display_name": "Python 3",
   "language": "python",
   "name": "python3"
  },
  "language_info": {
   "codemirror_mode": {
    "name": "ipython",
    "version": 3
   },
   "file_extension": ".py",
   "mimetype": "text/x-python",
   "name": "python",
   "nbconvert_exporter": "python",
   "pygments_lexer": "ipython3",
   "version": "3.7.10"
  }
 },
 "nbformat": 4,
 "nbformat_minor": 5
}
